{
 "cells": [
  {
   "cell_type": "code",
   "execution_count": 2,
   "metadata": {
    "collapsed": false
   },
   "outputs": [
    {
     "name": "stdout",
     "output_type": "stream",
     "text": [
      "100\n",
      "1000.0\n",
      "John\n"
     ]
    }
   ],
   "source": [
    "###--Variables in Python. Data types---###\n",
    "\n",
    "counter = 100          # An integer assignment\n",
    "miles   = 1000.0       # A floating point\n",
    "name    = \"John\"       # A string\n",
    "\n",
    "print(counter)\n",
    "print(miles)\n",
    "print(name)\n",
    "\n",
    "\n"
   ]
  },
  {
   "cell_type": "code",
   "execution_count": 1,
   "metadata": {
    "collapsed": false
   },
   "outputs": [
    {
     "name": "stdout",
     "output_type": "stream",
     "text": [
      "10 10.6 f\n"
     ]
    }
   ],
   "source": [
    "### Multiple Assignment ####\n",
    "a = b = c = 1\n",
    "###---Assign tu multiple variables multiple values---###\n",
    "\n",
    "###---Your code here---###\n",
    "a,b,c = 10, 10.6, 'f'\n",
    "print(a,b,c)\n"
   ]
  },
  {
   "cell_type": "code",
   "execution_count": 14,
   "metadata": {
    "collapsed": false
   },
   "outputs": [
    {
     "name": "stdout",
     "output_type": "stream",
     "text": [
      "Hello World!\n",
      "H\n",
      "llo\n",
      "['abcd', 786, 2.23, 'john', 70.2]\n",
      "abcd\n",
      "[786, 2.23]\n",
      "[2.23, 'john', 70.2]\n",
      "[123, 'john', 123, 'john']\n",
      "['abcd', 786, 2.23, 'john', 70.2, 123, 'john']\n",
      "[786, 2.23, 123]\n",
      "('abcd', 786, 2.23, 'john', 70.2)\n",
      "abcd\n",
      "(786, 2.23)\n",
      "(2.23, 'john', 70.2)\n",
      "(123, 'john', 123, 'john')\n",
      "('abcd', 786, 2.23, 'john', 70.2, 123, 'john')\n",
      "This is one\n",
      "This is two\n",
      "{'name': 'john', 'code': 6734, 'dept': 'sales'}\n",
      "dict_keys(['name', 'code', 'dept'])\n",
      "dict_values(['john', 6734, 'sales'])\n",
      "<class 'dict_values'>\n",
      "<class 'dict_keys'>\n",
      "<class 'dict_values'>\n",
      "john\n",
      "6734\n",
      "sales\n"
     ]
    },
    {
     "ename": "TypeError",
     "evalue": "'dict_values' object does not support indexing",
     "output_type": "error",
     "traceback": [
      "\u001b[0;31m---------------------------------------------------------------------------\u001b[0m",
      "\u001b[0;31mTypeError\u001b[0m                                 Traceback (most recent call last)",
      "\u001b[0;32m<ipython-input-14-9c58238c01f9>\u001b[0m in \u001b[0;36m<module>\u001b[0;34m\u001b[0m\n\u001b[1;32m     82\u001b[0m \u001b[0;32mfor\u001b[0m \u001b[0mi\u001b[0m \u001b[0;32min\u001b[0m \u001b[0mdict_values_elements\u001b[0m\u001b[0;34m:\u001b[0m\u001b[0;34m\u001b[0m\u001b[0;34m\u001b[0m\u001b[0m\n\u001b[1;32m     83\u001b[0m     \u001b[0mprint\u001b[0m\u001b[0;34m(\u001b[0m\u001b[0mi\u001b[0m\u001b[0;34m)\u001b[0m\u001b[0;34m\u001b[0m\u001b[0;34m\u001b[0m\u001b[0m\n\u001b[0;32m---> 84\u001b[0;31m \u001b[0mprint\u001b[0m\u001b[0;34m(\u001b[0m\u001b[0mdict_values_elements\u001b[0m\u001b[0;34m[\u001b[0m\u001b[0;36m0\u001b[0m\u001b[0;34m]\u001b[0m\u001b[0;34m)\u001b[0m\u001b[0;34m\u001b[0m\u001b[0;34m\u001b[0m\u001b[0m\n\u001b[0m",
      "\u001b[0;31mTypeError\u001b[0m: 'dict_values' object does not support indexing"
     ]
    }
   ],
   "source": [
    "### Standard Data Types###\n",
    "\n",
    "# Numbers\n",
    "# String\n",
    "# List\n",
    "# Tuple\n",
    "# Dictionary\n",
    "\n",
    "###---Numbers---##\n",
    "var1 = 1\n",
    "var2 = 10\n",
    "\n",
    "###Strings\n",
    "\n",
    "str = 'Hello World!'\n",
    "\n",
    "print(str)          # Prints complete string\n",
    "print(str[0])       # Prints first character of the string\n",
    "print(str[2:5])     # Prints characters starting from 3rd to 5th\n",
    "\n",
    "###Lists\n",
    "my_list = [ 'abcd', 786 , 2.23, 'john', 70.2 ]\n",
    "tinylist = [123, 'john']\n",
    "\n",
    "print( my_list  )        # Prints complete list\n",
    "print( my_list[0])       # Prints first element of the list\n",
    "print( my_list[1:3])     # Prints elements starting from 2nd till 3rd \n",
    "print( my_list[2:])      # Prints elements starting from 3rd element\n",
    "print( tinylist * 2 ) # Prints list two times\n",
    "print( my_list + tinylist )# Prints concatenated lists\n",
    "\n",
    "\n",
    "###Your code hear---###\n",
    "### Make concatentation of sliced lists and print the output---###\n",
    "print(my_list[1:3] + tinylist[:1])\n",
    "\n",
    "\n",
    "# Python Tuples\n",
    "\n",
    "tuple = ( 'abcd', 786 , 2.23, 'john', 70.2  )\n",
    "tinytuple = (123, 'john')\n",
    "\n",
    "print( tuple   )        # Prints complete list\n",
    "print( tuple[0]   )     # Prints first element of the list\n",
    "print( tuple[1:3]  )    # Prints elements starting from 2nd till 3rd \n",
    "print( tuple[2:]  )     # Prints elements starting from 3rd element\n",
    "print( tinytuple * 2 )  # Prints list two times\n",
    "\n",
    "###---Your code here---###\n",
    "###---concatenate tuples---###\n",
    "print( tuple + tinytuple )# Prints concatenated lists\n",
    "\n",
    "\n",
    "###---Python Dictionary---###\n",
    "\n",
    "dict = {}\n",
    "dict['one'] = \"This is one\"\n",
    "dict[2]     = \"This is two\"\n",
    "\n",
    "tinydict = {'name': 'john','code':6734, 'dept': 'sales'}\n",
    "\n",
    "\n",
    "print( dict['one'] )      # Prints value for 'one' key\n",
    "print( dict[2] )          # Prints value for 2 key\n",
    "\n",
    "###---Your code here---###\n",
    "\n",
    "###Print whole dict\n",
    "print( tinydict    )      # Prints complete dictionary\n",
    "print( tinydict.keys())   # Prints all the keys\n",
    "print( tinydict.values()) # Prints all the values\n",
    "\n",
    "###---Print type of the element that hold all keys and values---###\n",
    "print(type(tinydict.values()))\n",
    "print(type(tinydict.keys()))\n",
    "\n",
    "dict_values_elements = tinydict.values()\n",
    "print(type(dict_values_elements))\n",
    "\n",
    "###---Try to access via index to the element tha returns tinydict.values()---###\n",
    "### Your code here!!!\n",
    "print(dict_values_elements[0])"
   ]
  },
  {
   "cell_type": "code",
   "execution_count": 8,
   "metadata": {
    "collapsed": false
   },
   "outputs": [
    {
     "name": "stdout",
     "output_type": "stream",
     "text": [
      "10010\n",
      "('After converting to integer base 2 : ', 18)\n",
      "('After converting to float : ', 10010.0)\n"
     ]
    }
   ],
   "source": [
    "# Data Type Conversion\n",
    "\n",
    "# Python code to demonstrate Type conversion \n",
    "# using int(), float() \n",
    "  \n",
    "# initializing string \n",
    "s = \"10010\"\n",
    "print(int(s))\n",
    "\n",
    "# printing string converting to int base 2 \n",
    "c = int(s,2) \n",
    "print (\"After converting to integer base 2 : \", c) \n",
    "\n",
    "\n",
    "# printing string converting to float \n",
    "###--Your code here\n",
    "e = float(s) \n",
    "print (\"After converting to float : \", e)\n",
    "\n",
    "  \n"
   ]
  },
  {
   "cell_type": "code",
   "execution_count": 9,
   "metadata": {
    "collapsed": false
   },
   "outputs": [
    {
     "name": "stdout",
     "output_type": "stream",
     "text": [
      "('After converting string to tuple : ', ('g', 'e', 'e', 'k', 's'))\n",
      "('After converting string to set : ', set(['k', 'e', 's', 'g']))\n",
      "('After converting string to list : ', ['g', 'e', 'e', 'k', 's'])\n"
     ]
    }
   ],
   "source": [
    "\n",
    "# Python code to demonstrate Type conversion \n",
    "# using  tuple(), set(), list() \n",
    "s = 'geeks'\n",
    "  \n",
    "# printing string converting to tuple \n",
    "c = tuple(s) \n",
    "print (\"After converting string to tuple : \",c) \n",
    "\n",
    "  \n",
    "# printing string converting to set \n",
    "c = set(s) \n",
    "print (\"After converting string to set : \",c) \n",
    "\n",
    "  \n",
    "# printing string converting to list \n",
    "c = list(s) \n",
    "print (\"After converting string to list : \",c) \n",
    "\n"
   ]
  },
  {
   "cell_type": "code",
   "execution_count": 18,
   "metadata": {
    "collapsed": false
   },
   "outputs": [
    {
     "name": "stdout",
     "output_type": "stream",
     "text": [
      "{'ff': 1, 'gg': 2}\n",
      "{'ff': 1, 'gg': 2}\n"
     ]
    }
   ],
   "source": [
    "###---Properties of sets and dictionaries---###\n",
    "\n",
    "my_dict = {'ff':1,'gg':2}\n",
    "print(my_dict)\n",
    "\n",
    "###---Try duplicate elements---###\n",
    "###---your code here---###\n",
    "my_dict = {'ff':1,'gg':2,'ff':1}\n",
    "print(my_dict)"
   ]
  },
  {
   "cell_type": "code",
   "execution_count": 22,
   "metadata": {
    "collapsed": false
   },
   "outputs": [
    {
     "name": "stdout",
     "output_type": "stream",
     "text": [
      "{2}\n",
      "{2, 3}\n",
      "{2, 3, 'ggg'}\n"
     ]
    },
    {
     "ename": "TypeError",
     "evalue": "unhashable type: 'list'",
     "output_type": "error",
     "traceback": [
      "\u001b[0;31m---------------------------------------------------------------------------\u001b[0m",
      "\u001b[0;31mTypeError\u001b[0m                                 Traceback (most recent call last)",
      "\u001b[0;32m<ipython-input-22-ce8fc01e0497>\u001b[0m in \u001b[0;36m<module>\u001b[0;34m\u001b[0m\n\u001b[1;32m     14\u001b[0m \u001b[0mprint\u001b[0m\u001b[0;34m(\u001b[0m\u001b[0mf\u001b[0m\u001b[0;34m)\u001b[0m\u001b[0;34m\u001b[0m\u001b[0;34m\u001b[0m\u001b[0m\n\u001b[1;32m     15\u001b[0m \u001b[0;34m\u001b[0m\u001b[0m\n\u001b[0;32m---> 16\u001b[0;31m \u001b[0mf\u001b[0m\u001b[0;34m.\u001b[0m\u001b[0madd\u001b[0m\u001b[0;34m(\u001b[0m\u001b[0mlist\u001b[0m\u001b[0;34m(\u001b[0m\u001b[0;34m'ggg'\u001b[0m\u001b[0;34m)\u001b[0m\u001b[0;34m)\u001b[0m\u001b[0;34m\u001b[0m\u001b[0;34m\u001b[0m\u001b[0m\n\u001b[0m",
      "\u001b[0;31mTypeError\u001b[0m: unhashable type: 'list'"
     ]
    }
   ],
   "source": [
    "###---properties of the type set---###\n",
    "\n",
    "f = set()\n",
    "\n",
    "###--Add elements to the set---##\n",
    "\n",
    "f.add(2)\n",
    "print(f)\n",
    "\n",
    "f.add(3)\n",
    "print(f)\n",
    "\n",
    "f.add('ggg')\n",
    "print(f)\n",
    "\n",
    "###---This code yields error. Explain why and fix it---###\n",
    "f.add(list('ggg'))\n",
    "\n"
   ]
  },
  {
   "cell_type": "code",
   "execution_count": 10,
   "metadata": {
    "collapsed": false
   },
   "outputs": [
    {
     "name": "stdout",
     "output_type": "stream",
     "text": [
      "even\n",
      "odd\n"
     ]
    }
   ],
   "source": [
    "###---functions in python---###\n",
    "\n",
    "# A simple Python function to check \n",
    "# whether x is even or odd \n",
    "def evenOdd( x ): \n",
    "    if (x % 2 == 0): \n",
    "        print \"even\"\n",
    "    else: \n",
    "        print \"odd\"\n",
    "        \n",
    "        \n",
    "###---Call the function for odd and even numbers----###\n",
    "\n",
    "###your code here\n",
    "\n",
    "evenOdd( 2 )\n",
    "evenOdd( 11 )"
   ]
  },
  {
   "cell_type": "code",
   "execution_count": 23,
   "metadata": {
    "collapsed": false
   },
   "outputs": [
    {
     "name": "stdout",
     "output_type": "stream",
     "text": [
      "[10, 11, 12, 13, 14, 15]\n"
     ]
    }
   ],
   "source": [
    "### Pass by Reference or pass by value?\n",
    "\n",
    "def myFun(x): \n",
    "  \n",
    "   # After below line link of x with previous \n",
    "   # object gets broken. A new object is assigned \n",
    "   # to x. \n",
    "   x = [20, 30, 40] \n",
    "  \n",
    "# Driver Code (Note that lst is not modified \n",
    "# after function call. \n",
    "lst = [10, 11, 12, 13, 14, 15]  \n",
    "myFun(lst); \n",
    "print(lst)  "
   ]
  },
  {
   "cell_type": "code",
   "execution_count": 26,
   "metadata": {
    "collapsed": false
   },
   "outputs": [
    {
     "name": "stdout",
     "output_type": "stream",
     "text": [
      "before, outer_list = ['one', 'two', 'three']\n",
      "got ['one', 'two', 'three']\n",
      "changed to ['one', 'two', 'three', 'four']\n",
      "after, outer_list = ['one', 'two', 'three', 'four']\n",
      "before, outer_list = ['we', 'like', 'proper', 'English']\n",
      "got ['we', 'like', 'proper', 'English']\n",
      "set to ['and', 'we', 'can', 'not', 'lie']\n",
      "after, outer_list = ['we', 'like', 'proper', 'English']\n",
      "before, outer_string = It was many and many a year ago\n",
      "got It was many and many a year ago\n",
      "set to In a kingdom by the sea\n",
      "after, outer_string = It was many and many a year ago\n"
     ]
    }
   ],
   "source": [
    "###----Another example to demonstrate that reference link is broken if we assign a new value (inside the function).\n",
    "##Exercise: Try to guess the output of following code.\n",
    "\n",
    "\"\"\"\n",
    "Arguments are passed by assignment. The rationale behind this is twofold:\n",
    "the parameter passed in is actually a reference to an object (but the reference is passed by value)\n",
    "some data types are mutable, but others aren't\n",
    "So:\n",
    "If you pass a mutable object into a method, the method gets a reference to that same object \n",
    "and you can mutate it to your heart's delight, but if you rebind the reference in the method, \n",
    "the outer scope will know nothing about it, and after you're done, the outer reference will still point \n",
    "at the original object.\n",
    "If you pass an immutable object to a method, you still can't rebind the outer reference, \n",
    "and you can't even mutate the object.\n",
    "To make it even more clear, let's have some examples.\n",
    "\"\"\"\n",
    "\n",
    "#Let's try to modify the list that was passed to a method:\n",
    "\n",
    "def try_to_change_list_contents(the_list):\n",
    "    print('got', the_list)\n",
    "    the_list.append('four')\n",
    "    print('changed to', the_list)\n",
    "\n",
    "outer_list = ['one', 'two', 'three']\n",
    "\n",
    "print('before, outer_list =', outer_list)\n",
    "try_to_change_list_contents(outer_list)\n",
    "print('after, outer_list =', outer_list)\n",
    "\n",
    "\"\"\"\n",
    "nce the parameter passed in is a reference to outer_list, \n",
    "not a copy of it, we can use the mutating list methods to \n",
    "change it and have the changes reflected in the outer scope.\n",
    "\"\"\"\n",
    "\n",
    "\n",
    "#Now let's see what happens when we try to change the reference that was passed in as a parameter:\n",
    "\n",
    "def try_to_change_list_reference(the_list):\n",
    "    print('got', the_list)\n",
    "    the_list = ['and', 'we', 'can', 'not', 'lie']\n",
    "    print('set to', the_list)\n",
    "\n",
    "outer_list = ['we', 'like', 'proper', 'English']\n",
    "\n",
    "print('before, outer_list =', outer_list)\n",
    "try_to_change_list_reference(outer_list)\n",
    "print('after, outer_list =', outer_list)\n",
    "\n",
    "\n",
    "#String - an immutable type\n",
    "\n",
    "# Now, let's try to change the reference\n",
    "\n",
    "def try_to_change_string_reference(the_string):\n",
    "    print('got', the_string)\n",
    "    the_string = 'In a kingdom by the sea'\n",
    "    print('set to', the_string)\n",
    "\n",
    "outer_string = 'It was many and many a year ago'\n",
    "\n",
    "print('before, outer_string =', outer_string)\n",
    "try_to_change_string_reference(outer_string)\n",
    "print('after, outer_string =', outer_string)"
   ]
  },
  {
   "cell_type": "code",
   "execution_count": 27,
   "metadata": {
    "collapsed": false
   },
   "outputs": [
    {
     "name": "stdout",
     "output_type": "stream",
     "text": [
      "{(1, 2, 3): 'gg'}\n"
     ]
    }
   ],
   "source": [
    "###---Your code here---###\n",
    "\n",
    "#1) Make dictionary with tuples as keys\n",
    "\n",
    "my_dict = {(1,2,3):\"gg\"}\n",
    "print(my_dict)"
   ]
  },
  {
   "cell_type": "code",
   "execution_count": 41,
   "metadata": {
    "collapsed": false
   },
   "outputs": [
    {
     "name": "stdout",
     "output_type": "stream",
     "text": [
      "1\n",
      "1\n",
      "5\n",
      "[0, 2, 4, 6, 8, 5, 10, 12, 14, 16, 18]\n",
      "('Sorted list', [0, 2, 4, 5, 6, 8, 10, 12, 14, 16])\n",
      "[16, 14, 12, 10, 8, 6, 5, 4, 2, 0]\n",
      "[16, 14, 12, 10, 8, 6, 5, 4, 2]\n"
     ]
    }
   ],
   "source": [
    "###Functions implemented in the List conteiner in standard Python library---###\n",
    "\"\"\"\n",
    "append()\tAdds an element at the end of the list\n",
    "clear()\tRemoves all the elements from the list\n",
    "copy()\tReturns a copy of the list\n",
    "count()\tReturns the number of elements with the specified value\n",
    "extend()\tAdd the elements of a list (or any iterable), to the end of the current list\n",
    "index()\tReturns the index of the first element with the specified value\n",
    "insert()\tAdds an element at the specified position\n",
    "pop()\tRemoves the element at the specified position\n",
    "remove()\tRemoves the first item with the specified value\n",
    "reverse()\tReverses the order of the list\n",
    "sort()\tSorts the list\n",
    "\n",
    "\"\"\"\n",
    "\n",
    "###---Your code here---###\n",
    "### create list and see what every function does--###\n",
    "\n",
    "My_list = []\n",
    "\n",
    "###--- learning for loop and function range---###\n",
    "\n",
    "for i in range(0,20,2):\n",
    "    My_list.append(i)\n",
    "\n",
    "print(My_list.count(2))\n",
    "\n",
    "print(My_list.count(2))\n",
    "print(My_list.index(10))\n",
    "My_list.insert(5,5)\n",
    "print(My_list)\n",
    "My_list.pop()\n",
    "\n",
    "My_list.sort()\n",
    "print(\"Sorted list\", My_list)\n",
    "\n",
    "My_list.reverse()\n",
    "print(My_list)\n",
    "####---Another way to reverse---###\n",
    "print(My_list[:-1])"
   ]
  },
  {
   "cell_type": "code",
   "execution_count": 34,
   "metadata": {
    "collapsed": true
   },
   "outputs": [],
   "source": []
  }
 ],
 "metadata": {
  "kernelspec": {
   "display_name": "Python 2",
   "language": "python",
   "name": "python2"
  },
  "language_info": {
   "codemirror_mode": {
    "name": "ipython",
    "version": 2
   },
   "file_extension": ".py",
   "mimetype": "text/x-python",
   "name": "python",
   "nbconvert_exporter": "python",
   "pygments_lexer": "ipython2",
   "version": "2.7.10"
  }
 },
 "nbformat": 4,
 "nbformat_minor": 2
}
